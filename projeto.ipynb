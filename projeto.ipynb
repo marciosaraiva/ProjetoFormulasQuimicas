{
 "cells": [
  {
   "cell_type": "markdown",
   "id": "a24fcb34-0bce-4744-949a-ae730cd7c61a",
   "metadata": {},
   "source": [
    "# Imports"
   ]
  },
  {
   "cell_type": "code",
   "execution_count": 1,
   "id": "fb3555a5-cac4-413c-89a6-27795bb62272",
   "metadata": {},
   "outputs": [],
   "source": [
    "import sqlite3 as sql\n",
    "import os\n",
    "import numpy as np\n",
    "import matplotlib.pyplot as plt\n",
    "import math"
   ]
  },
  {
   "cell_type": "markdown",
   "id": "a5c977ae-f84b-46d7-b48d-5968ce62595e",
   "metadata": {},
   "source": [
    "# Funções"
   ]
  },
  {
   "cell_type": "markdown",
   "id": "93981090-a590-4598-b55f-bbe32a58ced4",
   "metadata": {},
   "source": [
    "## BASE_DADOS"
   ]
  },
  {
   "cell_type": "code",
   "execution_count": 2,
   "id": "4fc09daa-cb88-49e6-ae4c-363a8e9b46e3",
   "metadata": {
    "tags": []
   },
   "outputs": [],
   "source": [
    "def BASE_DADOS(nome_bd):                 \n",
    "    \n",
    "    if os.path.isfile(nome_bd):\n",
    "        os.remove(nome_bd)\n",
    "        \n",
    "    bd = sql.connect(nome_bd)\n",
    "    return bd"
   ]
  },
  {
   "cell_type": "markdown",
   "id": "c415debd-187b-4a01-9e81-547e0def1789",
   "metadata": {},
   "source": [
    "## CRIAR TABELAS"
   ]
  },
  {
   "cell_type": "code",
   "execution_count": 3,
   "id": "82fe57d2-7f6b-4e72-bae5-ee503edaeb6d",
   "metadata": {},
   "outputs": [],
   "source": [
    "def CRIAR_TABELAS(bd):\n",
    "    tabela_composto(bd)\n",
    "    tabela_atributos(bd)   \n",
    "    \n",
    "def tabela_composto(bd):\n",
    "    com='CREATE TABLE Compostos (\\\n",
    "        identificador INTEGER,\\\n",
    "        nome TEXT,\\\n",
    "        formula_quimica TEXT,\\\n",
    "        ponto_de_ebulicao FLOAT);'\n",
    "    bd.execute(com)\n",
    "    \n",
    "def tabela_atributos(bd):\n",
    "    com='CREATE TABLE Atributos (\\\n",
    "        identificador INTEGER,\\\n",
    "        atributos TEXT);'\n",
    "    bd.execute(com)"
   ]
  },
  {
   "cell_type": "markdown",
   "id": "d185f7c7-403f-474c-9566-2c7f0e60349e",
   "metadata": {},
   "source": [
    "## CARREGAR"
   ]
  },
  {
   "cell_type": "code",
   "execution_count": 4,
   "id": "41407c2e-cc72-4d42-a6e1-eb7ca10a60ec",
   "metadata": {},
   "outputs": [],
   "source": [
    "def CARREGAR(bd, ficheiro):\n",
    "\n",
    "    for line_file in ficheiro:\n",
    "        id_composto, nome, formula, ebulicao, atributos = line_file.split(\";\")\n",
    "       \n",
    "        comando1 = 'INSERT INTO Compostos VALUES ('\\\n",
    "            +'\"' + id_composto + '\",'\\\n",
    "            +'\"' + nome + '\",'\\\n",
    "            +'\"' + formula + '\",'\\\n",
    "            +'\"' + ebulicao + '\");'\n",
    "\n",
    "        bd.execute(comando1)\n",
    "\n",
    "        comando2 = 'INSERT INTO Atributos VALUES ('\\\n",
    "            +'\"' + id_composto + '\",'\\\n",
    "            +'\"' + atributos[:-1] + '\");'\n",
    "\n",
    "        bd.execute(comando2)\n",
    "    \n",
    "    ficheiro.close()"
   ]
  },
  {
   "cell_type": "markdown",
   "id": "f3e141cd-9767-4660-9578-75a8c91d067c",
   "metadata": {},
   "source": [
    "## REPORT"
   ]
  },
  {
   "cell_type": "code",
   "execution_count": 5,
   "id": "7db46572-757e-4a27-8018-f36ee4e67efb",
   "metadata": {},
   "outputs": [],
   "source": [
    "def REPORT(nome_ficheiro):\n",
    "    open(nome_ficheiro, \"a+\")"
   ]
  },
  {
   "cell_type": "markdown",
   "id": "3d6f9ee5-a5a1-4f7a-888e-41c0c5800914",
   "metadata": {},
   "source": [
    "## LIST"
   ]
  },
  {
   "cell_type": "code",
   "execution_count": 6,
   "id": "e15e46d8-7645-4dce-9fc9-dc3aa3223889",
   "metadata": {},
   "outputs": [],
   "source": [
    "def LIST(bd, ultimo_report_criado, linha):\n",
    "    \n",
    "    #extrai da linha\n",
    "    comando, formula, atributos = linha.split(\" \")\n",
    "\n",
    "    #Acessa o BD e seleciona todos os compostos com o atributo requisitado na linha\n",
    "    dict_compostos = select_compostosXformula(bd, atributos)\n",
    "     \n",
    "    # Filtrar os compostos que tem a mesma formula requisitada na linha\n",
    "    resultados = filtra_compostos(dict_compostos,formula)\n",
    "                \n",
    "    # Salva dentro do ultimo report criado\n",
    "    salve_in_report(ultimo_report_criado, linha, resultados)   "
   ]
  },
  {
   "cell_type": "markdown",
   "id": "55c5cefa-94c8-4642-a617-98ddac1a9b59",
   "metadata": {},
   "source": [
    "#### Funções para extrair a formula empirica"
   ]
  },
  {
   "cell_type": "code",
   "execution_count": 7,
   "id": "abe37fd6-d062-494b-a4d5-2c146b9b16b6",
   "metadata": {},
   "outputs": [],
   "source": [
    "def decompor(formula): #'H2SO4' -> {'H':2, 'S': 1, 'O': 4}\n",
    "    dic ={}\n",
    "    f = formula\n",
    "    while len(f) > 0:\n",
    "        i = indice_separador(f)\n",
    "        componente = f[:i]\n",
    "        (simb, n_at) = analise(componente)\n",
    "        dic.update({simb: n_at})\n",
    "        f = f[i:]\n",
    "    return dic\n",
    "\n",
    "def indice_separador(formula):\n",
    "    i = 1\n",
    "    while i < len(formula) and not formula[i].isupper():\n",
    "        i = i + 1\n",
    "    return i\n",
    "\n",
    "def analise(componente):\n",
    "    i = 0\n",
    "    while i < len(componente) and componente[i].isalpha():\n",
    "        i = i + 1\n",
    "    simb = componente[:i]\n",
    "    if i >= len(componente):\n",
    "        n_at = 1\n",
    "    else:\n",
    "        n_at = int(componente[i:])\n",
    "    return (simb , n_at)\n",
    "\n",
    "def forma_empirica(formula):\n",
    "    dicionario_formula = decompor(formula)\n",
    "    qtd_carbono = dicionario_formula[\"C\"]\n",
    "    forma_final = \"\"\n",
    "    for atomo, quantidade in dicionario_formula.items():\n",
    "        forma_final+=atomo+str(int(quantidade/qtd_carbono))\n",
    "    return forma_final.replace(\"1\",\"\")"
   ]
  },
  {
   "cell_type": "markdown",
   "id": "95a6ef89-818f-45dd-ad67-07400ad00d8d",
   "metadata": {},
   "source": [
    "#### Funções para o LIST"
   ]
  },
  {
   "cell_type": "code",
   "execution_count": 8,
   "id": "bf755691-b018-4bcc-9ffa-f41e4f87a049",
   "metadata": {},
   "outputs": [],
   "source": [
    "def select_compostosXformula(bd, atributos):\n",
    "\n",
    "    atributos = atributos.replace(\"\\n\", \"\")\n",
    "    if \"*\" in atributos:\n",
    "        com = \"SELECT c.*, a.* FROM Compostos as c, Atributos as a WHERE c.identificador = a.identificador\"\n",
    "    else:\n",
    "        com = \"SELECT c.*, a.* FROM Compostos as c, Atributos as a WHERE c.identificador = a.identificador and a.atributos like '%\"+str(atributos)+\"%'\"\n",
    "    res = bd.execute(com).fetchall()\n",
    "    dict_compostos = {comp[1]: comp[2] for comp in res}\n",
    "    \n",
    "    return dict_compostos\n"
   ]
  },
  {
   "cell_type": "code",
   "execution_count": 9,
   "id": "ac7b9da7-a0f5-456e-8fc9-eec38c588a71",
   "metadata": {},
   "outputs": [],
   "source": [
    "def select_compostosXebulicao(bd, atributos):\n",
    "\n",
    "    atributos = atributos.replace(\"\\n\", \"\")\n",
    "    if \"*\" in atributos:\n",
    "        com = \"SELECT c.*, a.* FROM Compostos as c, Atributos as a WHERE c.identificador = a.identificador\"\n",
    "    else:\n",
    "        com = \"SELECT c.*, a.* FROM Compostos as c, Atributos as a WHERE c.identificador = a.identificador and a.atributos like '%\"+str(atributos)+\"%'\"\n",
    "    res = bd.execute(com).fetchall()\n",
    "    \n",
    "    dict_compostos = {comp[1]: comp[3] for comp in res}\n",
    "    \n",
    "    return dict_compostos\n"
   ]
  },
  {
   "cell_type": "code",
   "execution_count": 10,
   "id": "eb626f6b-d4d9-47ff-8f50-f801a3756992",
   "metadata": {},
   "outputs": [],
   "source": [
    "def filtra_compostos(dict_compostos, formula):\n",
    "    resultados = []\n",
    "    for key, value in dict_compostos.items():\n",
    "        if forma_empirica(value) == formula:\n",
    "            resultados.append(str(key) +\";\"+ str(value))\n",
    "            \n",
    "    return resultados"
   ]
  },
  {
   "cell_type": "code",
   "execution_count": 11,
   "id": "4832522f-032e-4d13-87dd-3ae29c11ddef",
   "metadata": {},
   "outputs": [],
   "source": [
    "def salve_in_report(nome_report, linha, resultados):\n",
    "    with open(nome_report, \"a+\") as ficheiro:\n",
    "        ficheiro.write(linha)\n",
    "        for resposta in resultados:\n",
    "            ficheiro.write(\"\\t\"+resposta+\"\\n\")  "
   ]
  },
  {
   "cell_type": "markdown",
   "id": "dacf9588-082c-4aca-b3a3-2b259444cf98",
   "metadata": {},
   "source": [
    "## GRAFICO"
   ]
  },
  {
   "cell_type": "code",
   "execution_count": 12,
   "id": "0aaef18b-3343-4e87-beb5-5fbab1ae63cf",
   "metadata": {},
   "outputs": [],
   "source": [
    "def GRAFICO(bd, nome_ficheiro, atributos): \n",
    "    \n",
    "    compostosXformula = select_compostosXformula(bd, atributos)\n",
    "    \n",
    "    compostosXebulicao = select_compostosXebulicao(bd, atributos)\n",
    "    \n",
    "    X, Y = calculaXY(compostosXformula, compostosXebulicao)\n",
    "    \n",
    "    # cria lista de logs do X\n",
    "    list_log_xs = []\n",
    "    for x in X:\n",
    "        list_log_xs.append(math.log(x))\n",
    "    \n",
    "    A, B = calculaAB(list_log_xs, Y) \n",
    "    \n",
    "    ordenada_x, ordenada_y = ordena_duaslistas(list_log_xs, Y)\n",
    "    \n",
    "    desenha_grafico(ordenada_x, ordenada_y, A, B, atributos, nome_ficheiro)\n",
    "        "
   ]
  },
  {
   "cell_type": "markdown",
   "id": "b59181a6-83d4-4e3d-b5cd-a4941d53e275",
   "metadata": {},
   "source": [
    "#### Funções para o GRAFICO"
   ]
  },
  {
   "cell_type": "code",
   "execution_count": 13,
   "id": "f85a2e0c-44d5-4ed6-9e2d-41faa0929020",
   "metadata": {},
   "outputs": [],
   "source": [
    "def calculaXY(compostosXformula, compostosXebulicao):\n",
    "    X = []\n",
    "    for composto, formula in compostosXformula.items():\n",
    "        X.append(decompor(formula)[\"C\"])\n",
    "    \n",
    "    Y = []\n",
    "    for composto, ebulicao in compostosXebulicao.items():\n",
    "        Y.append(ebulicao)\n",
    "        \n",
    "    return X, Y"
   ]
  },
  {
   "cell_type": "code",
   "execution_count": 14,
   "id": "c5e9db86-ae6f-4c04-bd59-d9bafa725b68",
   "metadata": {},
   "outputs": [],
   "source": [
    "def calculaAB(list_log_xs, Y):\n",
    "    \n",
    "    # calculo B\n",
    "    \n",
    "    media_log_xs = sum(list_log_xs)/len(list_log_xs)\n",
    "    media_ebulicao = sum(Y)/len(Y)\n",
    "    \n",
    "    B = sum( np.add(list_log_xs, -media_log_xs) * np.add(Y, -media_ebulicao) ) / ( sum(np.add(list_log_xs,-media_log_xs)**2) )\n",
    "    \n",
    "    # calculo A\n",
    "    \n",
    "    A = ( sum(Y)/len(Y) ) - B * sum(list_log_xs)/len(Y)\n",
    "    \n",
    "    return A, B"
   ]
  },
  {
   "cell_type": "code",
   "execution_count": 15,
   "id": "04653894-a978-4cb2-a92b-b16d9d80ff01",
   "metadata": {},
   "outputs": [],
   "source": [
    "def ordena_duaslistas(lista1, lista2):\n",
    "    ordenado_x = []\n",
    "    ordenado_y = []\n",
    "\n",
    "    while len(lista1)>0:\n",
    "        menor_log_x = min(lista1)\n",
    "\n",
    "        ordenado_x.append(menor_log_x)\n",
    "\n",
    "        posicao_menor = lista1.index(menor_log_x)\n",
    "\n",
    "        ordenado_y.append(lista2[posicao_menor])\n",
    "\n",
    "        lista1.pop(posicao_menor)\n",
    "        lista2.pop(posicao_menor)\n",
    "        \n",
    "    return ordenado_x, ordenado_y"
   ]
  },
  {
   "cell_type": "code",
   "execution_count": 16,
   "id": "4129cbd3-8f9e-43ba-a5bb-3a9932296b29",
   "metadata": {},
   "outputs": [],
   "source": [
    "def desenha_grafico(ordenada_x, ordenada_y, A, B, atributos, nome_ficheiro):\n",
    "    plt.scatter(ordenada_x, ordenada_y)\n",
    "    y_reta = A+(B*np.array(ordenada_x))\n",
    "    plt.plot(ordenada_x, y_reta)\n",
    "    plt.xlabel(\"Logaritmo do número de atomos de Carbono\")\n",
    "    plt.ylabel(\"Ponto de Ebulição\")\n",
    "    plt.title(\"Atributo: \"+atributos)\n",
    "    plt.savefig(nome_ficheiro, format=nome_ficheiro.split(\".\")[1])\n",
    "    plt.show()"
   ]
  },
  {
   "cell_type": "markdown",
   "id": "8a22163a-b0a7-43c8-89fd-ead28ee0f6a3",
   "metadata": {},
   "source": [
    "# Desenvolvimento"
   ]
  },
  {
   "cell_type": "code",
   "execution_count": 19,
   "id": "9e592cd7-059f-4948-a84f-5be7f94c250a",
   "metadata": {},
   "outputs": [],
   "source": [
    "def processar (nome_ficheiro_ordens):\n",
    "    \n",
    "    nome_bd = \"\"\n",
    "    ultimo_report_criado = \"\"\n",
    "    \n",
    "    with open(nome_ficheiro_ordens, \"r\") as ficheiro:\n",
    "    \n",
    "        for line in ficheiro:\n",
    "         \n",
    "            if \"BASE_DADOS\" in line:\n",
    "                comando, nome_bd = line.split(\" \")\n",
    "                nome_bd = nome_bd.split(\".\")[0]\n",
    "                bd = BASE_DADOS(nome_bd)\n",
    "                \n",
    "            elif \"CRIAR_TABELAS\" in line:\n",
    "                CRIAR_TABELAS(bd)\n",
    "    \n",
    "            elif \"CARREGAR\" in line:\n",
    "                comando, nome_ficheiro_compostos = line.split(\" \")\n",
    "                nome_ficheiro_compostos = nome_ficheiro_compostos.replace(\"\\n\",\"\")\n",
    "                ficheiro = open(nome_ficheiro_compostos, \"r\")\n",
    "                CARREGAR(bd, ficheiro)\n",
    "            \n",
    "            elif \"REPORT\" in line:    \n",
    "                Comando, nome_report = line.split(\" \")\n",
    "                \n",
    "                ultimo_report_criado = nome_report[:-1]\n",
    "                \n",
    "                REPORT(ultimo_report_criado)\n",
    "                            \n",
    "            elif \"LIST\" in line:\n",
    "                LIST(bd, ultimo_report_criado, line)\n",
    "            \n",
    "            elif \"GRAFICO\" in line:\n",
    "                comando, ficheiro_grafico, atributo_grafico = line.split(\" \")\n",
    "                GRAFICO(bd, ficheiro_grafico, atributo_grafico)\n",
    "            else:\n",
    "                print(\"comando desconhecido\")\n",
    "    \n",
    "    bd.close()"
   ]
  },
  {
   "cell_type": "markdown",
   "id": "029efe33-2df7-41a7-b91a-5447188ffd93",
   "metadata": {},
   "source": [
    "# Testes"
   ]
  },
  {
   "cell_type": "code",
   "execution_count": 20,
   "id": "f3123780-20b6-4c2c-ad17-5d5a5ae50959",
   "metadata": {},
   "outputs": [
    {
     "data": {
      "image/png": "[encoded data removed]",
      "text/plain": [
       "<Figure size 432x288 with 1 Axes>"
      ]
     },
     "metadata": {
      "needs_background": "light"
     },
     "output_type": "display_data"
    }
   ],
   "source": [
    "processar(\"orders.txt\")"
   ]
  }
 ],
 "metadata": {
  "kernelspec": {
   "display_name": "Python 3",
   "language": "python",
   "name": "python3"
  },
  "language_info": {
   "codemirror_mode": {
    "name": "ipython",
    "version": 3
   },
   "file_extension": ".py",
   "mimetype": "text/x-python",
   "name": "python",
   "nbconvert_exporter": "python",
   "pygments_lexer": "ipython3",
   "version": "3.8.8"
  }
 },
 "nbformat": 4,
 "nbformat_minor": 5
}
